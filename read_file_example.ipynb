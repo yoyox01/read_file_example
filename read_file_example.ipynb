{
 "cells": [
  {
   "cell_type": "code",
   "execution_count": 1,
   "metadata": {},
   "outputs": [],
   "source": [
    "import pandas as pd\n",
    "import numpy as np\n",
    "import glob"
   ]
  },
  {
   "cell_type": "markdown",
   "metadata": {},
   "source": [
    "## An example of one machine folder:"
   ]
  },
  {
   "cell_type": "code",
   "execution_count": 2,
   "metadata": {},
   "outputs": [],
   "source": [
    "machine = 'WSAWB02'\n",
    "read_file = glob.glob(machine+'/*')"
   ]
  },
  {
   "cell_type": "code",
   "execution_count": 3,
   "metadata": {},
   "outputs": [
    {
     "name": "stdout",
     "output_type": "stream",
     "text": [
      "WSAWB02\\WSAWB02_HAJ2JAI.xlsx\n",
      "WSAWB02\\WSAWB02_HEJQMAB.xlsx\n",
      "WSAWB02\\WSAWB02_HGJETAH.xlsx\n",
      "WSAWB02\\WSAWB02_HICXKAJ.xlsx\n",
      "WSAWB02\\WSAWB02_HJCZVAF.xlsx\n",
      ".\n",
      ".\n",
      ".\n",
      "\n"
     ]
    }
   ],
   "source": [
    "for i, xlsx_name in enumerate(read_file):\n",
    "    print(xlsx_name) if i < 5 else _\n",
    "print('.\\n.\\n.\\n')"
   ]
  },
  {
   "cell_type": "markdown",
   "metadata": {},
   "source": [
    "## A read file example of one .xlsx:"
   ]
  },
  {
   "cell_type": "code",
   "execution_count": 4,
   "metadata": {},
   "outputs": [],
   "source": [
    "df = pd.read_excel(read_file[0])"
   ]
  },
  {
   "cell_type": "code",
   "execution_count": 5,
   "metadata": {},
   "outputs": [
    {
     "data": {
      "text/html": [
       "<div>\n",
       "<style scoped>\n",
       "    .dataframe tbody tr th:only-of-type {\n",
       "        vertical-align: middle;\n",
       "    }\n",
       "\n",
       "    .dataframe tbody tr th {\n",
       "        vertical-align: top;\n",
       "    }\n",
       "\n",
       "    .dataframe thead th {\n",
       "        text-align: right;\n",
       "    }\n",
       "</style>\n",
       "<table border=\"1\" class=\"dataframe\">\n",
       "  <thead>\n",
       "    <tr style=\"text-align: right;\">\n",
       "      <th></th>\n",
       "      <th>wsawindex_x</th>\n",
       "      <th>PROFILE_01</th>\n",
       "      <th>PROFILE_02</th>\n",
       "      <th>PROFILE_03</th>\n",
       "      <th>PROFILE_04</th>\n",
       "      <th>PROFILE_05</th>\n",
       "      <th>PROFILE_06</th>\n",
       "      <th>PROFILE_07</th>\n",
       "      <th>PROFILE_08</th>\n",
       "      <th>PROFILE_09</th>\n",
       "      <th>...</th>\n",
       "      <th>Diff_PROFILE_11</th>\n",
       "      <th>Diff_PROFILE_12</th>\n",
       "      <th>Diff_PROFILE_13</th>\n",
       "      <th>Diff_PROFILE_14</th>\n",
       "      <th>Diff_PROFILE_15</th>\n",
       "      <th>Diff_PROFILE_17</th>\n",
       "      <th>Diff_PROFILE_18</th>\n",
       "      <th>Diff_PROFILE_20</th>\n",
       "      <th>Diff_PROFILE_21</th>\n",
       "      <th>Diff_PROFILE_22</th>\n",
       "    </tr>\n",
       "  </thead>\n",
       "  <tbody>\n",
       "    <tr>\n",
       "      <th>0</th>\n",
       "      <td>WSAWB0218010102</td>\n",
       "      <td>2018-01-01 05:51:49</td>\n",
       "      <td>-2.326</td>\n",
       "      <td>-0.39</td>\n",
       "      <td>5.869</td>\n",
       "      <td>23.12</td>\n",
       "      <td>22.83</td>\n",
       "      <td>22.85</td>\n",
       "      <td>23.12</td>\n",
       "      <td>22.66</td>\n",
       "      <td>...</td>\n",
       "      <td>0.00</td>\n",
       "      <td>0.00</td>\n",
       "      <td>0.00</td>\n",
       "      <td>0</td>\n",
       "      <td>0.000</td>\n",
       "      <td>0.0</td>\n",
       "      <td>0.00</td>\n",
       "      <td>0.00</td>\n",
       "      <td>0.00</td>\n",
       "      <td>0</td>\n",
       "    </tr>\n",
       "    <tr>\n",
       "      <th>1</th>\n",
       "      <td>WSAWB0218010102</td>\n",
       "      <td>2018-01-01 05:52:49</td>\n",
       "      <td>-2.728</td>\n",
       "      <td>-0.39</td>\n",
       "      <td>5.930</td>\n",
       "      <td>22.90</td>\n",
       "      <td>23.05</td>\n",
       "      <td>23.22</td>\n",
       "      <td>22.52</td>\n",
       "      <td>22.81</td>\n",
       "      <td>...</td>\n",
       "      <td>-0.12</td>\n",
       "      <td>0.44</td>\n",
       "      <td>0.39</td>\n",
       "      <td>-17</td>\n",
       "      <td>0.001</td>\n",
       "      <td>0.3</td>\n",
       "      <td>0.00</td>\n",
       "      <td>0.11</td>\n",
       "      <td>-0.21</td>\n",
       "      <td>6</td>\n",
       "    </tr>\n",
       "    <tr>\n",
       "      <th>2</th>\n",
       "      <td>WSAWB0218010102</td>\n",
       "      <td>2018-01-01 05:53:49</td>\n",
       "      <td>-3.106</td>\n",
       "      <td>-0.39</td>\n",
       "      <td>6.156</td>\n",
       "      <td>22.90</td>\n",
       "      <td>23.31</td>\n",
       "      <td>22.90</td>\n",
       "      <td>22.92</td>\n",
       "      <td>23.18</td>\n",
       "      <td>...</td>\n",
       "      <td>-0.14</td>\n",
       "      <td>-0.44</td>\n",
       "      <td>-0.26</td>\n",
       "      <td>-9</td>\n",
       "      <td>0.000</td>\n",
       "      <td>-1.2</td>\n",
       "      <td>0.00</td>\n",
       "      <td>-0.25</td>\n",
       "      <td>-0.06</td>\n",
       "      <td>22</td>\n",
       "    </tr>\n",
       "    <tr>\n",
       "      <th>3</th>\n",
       "      <td>WSAWB0218010102</td>\n",
       "      <td>2018-01-01 05:54:49</td>\n",
       "      <td>-3.496</td>\n",
       "      <td>-0.39</td>\n",
       "      <td>-0.158</td>\n",
       "      <td>23.33</td>\n",
       "      <td>22.90</td>\n",
       "      <td>23.14</td>\n",
       "      <td>23.16</td>\n",
       "      <td>22.90</td>\n",
       "      <td>...</td>\n",
       "      <td>0.00</td>\n",
       "      <td>0.33</td>\n",
       "      <td>0.02</td>\n",
       "      <td>-4</td>\n",
       "      <td>0.000</td>\n",
       "      <td>-0.1</td>\n",
       "      <td>0.00</td>\n",
       "      <td>0.20</td>\n",
       "      <td>-0.15</td>\n",
       "      <td>18</td>\n",
       "    </tr>\n",
       "    <tr>\n",
       "      <th>4</th>\n",
       "      <td>WSAWB0218010102</td>\n",
       "      <td>2018-01-01 05:55:49</td>\n",
       "      <td>-3.894</td>\n",
       "      <td>-0.39</td>\n",
       "      <td>9.455</td>\n",
       "      <td>22.63</td>\n",
       "      <td>23.03</td>\n",
       "      <td>22.92</td>\n",
       "      <td>22.94</td>\n",
       "      <td>22.68</td>\n",
       "      <td>...</td>\n",
       "      <td>0.00</td>\n",
       "      <td>-1.01</td>\n",
       "      <td>0.07</td>\n",
       "      <td>-5</td>\n",
       "      <td>0.000</td>\n",
       "      <td>-1.3</td>\n",
       "      <td>0.12</td>\n",
       "      <td>-0.07</td>\n",
       "      <td>0.44</td>\n",
       "      <td>10</td>\n",
       "    </tr>\n",
       "  </tbody>\n",
       "</table>\n",
       "<p>5 rows × 98 columns</p>\n",
       "</div>"
      ],
      "text/plain": [
       "       wsawindex_x          PROFILE_01  PROFILE_02  PROFILE_03  PROFILE_04  \\\n",
       "0  WSAWB0218010102 2018-01-01 05:51:49      -2.326       -0.39       5.869   \n",
       "1  WSAWB0218010102 2018-01-01 05:52:49      -2.728       -0.39       5.930   \n",
       "2  WSAWB0218010102 2018-01-01 05:53:49      -3.106       -0.39       6.156   \n",
       "3  WSAWB0218010102 2018-01-01 05:54:49      -3.496       -0.39      -0.158   \n",
       "4  WSAWB0218010102 2018-01-01 05:55:49      -3.894       -0.39       9.455   \n",
       "\n",
       "   PROFILE_05  PROFILE_06  PROFILE_07  PROFILE_08  PROFILE_09  \\\n",
       "0       23.12       22.83       22.85       23.12       22.66   \n",
       "1       22.90       23.05       23.22       22.52       22.81   \n",
       "2       22.90       23.31       22.90       22.92       23.18   \n",
       "3       23.33       22.90       23.14       23.16       22.90   \n",
       "4       22.63       23.03       22.92       22.94       22.68   \n",
       "\n",
       "        ...         Diff_PROFILE_11  Diff_PROFILE_12  Diff_PROFILE_13  \\\n",
       "0       ...                    0.00             0.00             0.00   \n",
       "1       ...                   -0.12             0.44             0.39   \n",
       "2       ...                   -0.14            -0.44            -0.26   \n",
       "3       ...                    0.00             0.33             0.02   \n",
       "4       ...                    0.00            -1.01             0.07   \n",
       "\n",
       "   Diff_PROFILE_14  Diff_PROFILE_15  Diff_PROFILE_17  Diff_PROFILE_18  \\\n",
       "0                0            0.000              0.0             0.00   \n",
       "1              -17            0.001              0.3             0.00   \n",
       "2               -9            0.000             -1.2             0.00   \n",
       "3               -4            0.000             -0.1             0.00   \n",
       "4               -5            0.000             -1.3             0.12   \n",
       "\n",
       "   Diff_PROFILE_20  Diff_PROFILE_21  Diff_PROFILE_22  \n",
       "0             0.00             0.00                0  \n",
       "1             0.11            -0.21                6  \n",
       "2            -0.25            -0.06               22  \n",
       "3             0.20            -0.15               18  \n",
       "4            -0.07             0.44               10  \n",
       "\n",
       "[5 rows x 98 columns]"
      ]
     },
     "execution_count": 5,
     "metadata": {},
     "output_type": "execute_result"
    }
   ],
   "source": [
    "df.head()"
   ]
  },
  {
   "cell_type": "markdown",
   "metadata": {},
   "source": [
    "## Example of reading all .xlsx to numpy:"
   ]
  },
  {
   "cell_type": "code",
   "execution_count": 6,
   "metadata": {
    "scrolled": true
   },
   "outputs": [
    {
     "name": "stdout",
     "output_type": "stream",
     "text": [
      "(825, 98)\n",
      "(852, 98)\n",
      "(853, 98)\n",
      "(840, 98)\n",
      "(837, 98)\n",
      ".\n",
      ".\n",
      ".\n",
      "\n"
     ]
    }
   ],
   "source": [
    "for i, xlsx_name in enumerate(read_file):\n",
    "    if i == 0:\n",
    "        data = pd.read_excel(xlsx_name).values\n",
    "        print(data.shape)\n",
    "        continue\n",
    "        \n",
    "    tmp = pd.read_excel(xlsx_name).values\n",
    "    print(tmp.shape) if i < 5 else _\n",
    "    \n",
    "    data = np.concatenate((data, tmp), axis=0)\n",
    "print('.\\n.\\n.\\n')"
   ]
  },
  {
   "cell_type": "markdown",
   "metadata": {},
   "source": [
    "## All the files are in 'data' now:"
   ]
  },
  {
   "cell_type": "code",
   "execution_count": 7,
   "metadata": {},
   "outputs": [
    {
     "data": {
      "text/plain": [
       "(153728, 98)"
      ]
     },
     "execution_count": 7,
     "metadata": {},
     "output_type": "execute_result"
    }
   ],
   "source": [
    "data.shape"
   ]
  }
 ],
 "metadata": {
  "kernelspec": {
   "display_name": "Python (tensorflow-gpu)",
   "language": "python",
   "name": "tensorflow-gpu"
  },
  "language_info": {
   "codemirror_mode": {
    "name": "ipython",
    "version": 3
   },
   "file_extension": ".py",
   "mimetype": "text/x-python",
   "name": "python",
   "nbconvert_exporter": "python",
   "pygments_lexer": "ipython3",
   "version": "3.6.7"
  }
 },
 "nbformat": 4,
 "nbformat_minor": 2
}
